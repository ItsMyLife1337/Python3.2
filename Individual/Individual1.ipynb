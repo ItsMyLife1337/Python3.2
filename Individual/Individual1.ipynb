{
 "cells": [
  {
   "cell_type": "markdown",
   "id": "b9588f03",
   "metadata": {},
   "source": [
    "## В - 1. Дана целочисленная прямоугольная матрица. Определить: \n",
    "### количество строк, не содержащих ни одного нулевого элемента;\n",
    "### максимальное из чисел, встречающихся в заданной матрице более одного раза."
   ]
  },
  {
   "cell_type": "code",
   "execution_count": 10,
   "id": "806bd5bb",
   "metadata": {},
   "outputs": [
    {
     "name": "stdout",
     "output_type": "stream",
     "text": [
      "[[37 30  9  4 24]\n",
      " [ 3  3 38 10 19]\n",
      " [37  7  9 45 42]\n",
      " [26  2 42 15 48]]\n"
     ]
    }
   ],
   "source": [
    "# Импортируем необходимые библиотеки\n",
    "import numpy as np\n",
    "\n",
    "# Объявил матрицу 4х5 и заполнил рандомномными значениями\n",
    "a = np.random.randint (0, 50, (4, 5))\n",
    "print(a)"
   ]
  },
  {
   "cell_type": "code",
   "execution_count": 11,
   "id": "8772d76c",
   "metadata": {},
   "outputs": [
    {
     "name": "stdout",
     "output_type": "stream",
     "text": [
      "Количество строк количество строк, не содержащих ни одного нулевого элемента: 4\n"
     ]
    }
   ],
   "source": [
    "# Ищу количество строк не содержащих ни одного 0-вого элемента\n",
    "rows, colums = a[np.where(a.min(axis=1) != 0)].shape\n",
    "print('Количество строк количество строк, не содержащих ни одного нулевого элемента:', rows)"
   ]
  },
  {
   "cell_type": "code",
   "execution_count": 12,
   "id": "16873ecb",
   "metadata": {},
   "outputs": [
    {
     "name": "stdout",
     "output_type": "stream",
     "text": [
      "42\n"
     ]
    }
   ],
   "source": [
    "# Ищу максимальное число, которое встретиться в матрице больше 1 раза\n",
    "vals, counts = np.unique(a, return_counts=True)\n",
    "print(max(vals[counts > 1]))"
   ]
  },
  {
   "cell_type": "code",
   "execution_count": null,
   "id": "430795c4",
   "metadata": {},
   "outputs": [],
   "source": []
  }
 ],
 "metadata": {
  "kernelspec": {
   "display_name": "Python 3 (ipykernel)",
   "language": "python",
   "name": "python3"
  },
  "language_info": {
   "codemirror_mode": {
    "name": "ipython",
    "version": 3
   },
   "file_extension": ".py",
   "mimetype": "text/x-python",
   "name": "python",
   "nbconvert_exporter": "python",
   "pygments_lexer": "ipython3",
   "version": "3.9.13"
  }
 },
 "nbformat": 4,
 "nbformat_minor": 5
}
